{
 "cells": [
  {
   "cell_type": "markdown",
   "metadata": {},
   "source": [
    "# INF-396 Introducción a la Cienca de Datos\n",
    "## Tarea 1 Redes Bayesianes\n",
    "### Ignas Pileckas, estudiante de intercambios"
   ]
  },
  {
   "cell_type": "markdown",
   "metadata": {},
   "source": [
    "#### Pregunta 1 (50%): Programando una red bayesiana"
   ]
  },
  {
   "cell_type": "code",
   "execution_count": 1,
   "metadata": {},
   "outputs": [],
   "source": [
    "# Las variables del modelo son: \n",
    "#    Si el paciente visitó Asia (A ∈ {0,1}),\n",
    "#    Fumador (F ∈ {0,1}), Tuberculosis (T ∈ {0, 1}),\n",
    "#    Cancer de pulmón (C ∈ {0, 1}), Bronquitis (B ∈ {0, 1}), \n",
    "#    Si el paciente tiene Tuberculosis o Cancer (E ∈ {0,1}), \n",
    "#    Resultados rayos X (X ∈ {0, 1}), \n",
    "#    Disnea (D ∈ {0, 1})."
   ]
  },
  {
   "cell_type": "code",
   "execution_count": 2,
   "metadata": {},
   "outputs": [],
   "source": [
    "# P(A) = 0.01\n",
    "# P(F) = 0.5\n",
    "# P(T|A) = 0.05, P(T|no A) = 0.01\n",
    "# P(C|F) = 0.1, P(C| no F) = 0.01\n",
    "# P(B|F) = 0.6, P(B| no F) = 0.3\n",
    "# P(E|C,T)=1,P(E|C,noT)=1,P(E|noC,T)=1,P(E|noC,noT)=0\n",
    "# P(X|E) = 0.98, P(X| no E) = 0.05\n",
    "# P(D|E,B) = 0.9, P(D|E, no B) = 0.7, P(D|no E, B) = 0.8, P(D/no E, no B) = 0.1"
   ]
  },
  {
   "cell_type": "code",
   "execution_count": 21,
   "metadata": {},
   "outputs": [
    {
     "name": "stdout",
     "output_type": "stream",
     "text": [
      "+------------------------+------------+------------+\n",
      "| F                      | F(Fumador) | F(No fume) |\n",
      "+------------------------+------------+------------+\n",
      "| C(Cancer de pulmón)    | 0.1        | 0.01       |\n",
      "+------------------------+------------+------------+\n",
      "| C(No cancer de pulmón) | 0.9        | 0.99       |\n",
      "+------------------------+------------+------------+\n"
     ]
    }
   ],
   "source": [
    "from pgmpy.models import BayesianModel\n",
    "from pgmpy.factors.discrete import TabularCPD\n",
    "\n",
    "# P(A,F,T,C,B,E,X,D) = P(A)*P(F)*P(T/A)*P(C/F)*P(B/F)*P(E/C,T)*P(D/E,B)\n",
    "\n",
    "model = BayesianModel([('A','T'),('F','C'), ('F','B'), ('T','E'),('C', 'E'),('E','X'),('E','D'),('B', 'D')])\n",
    "\n",
    "cpd_a = TabularCPD(variable='A', variable_card=2, \n",
    "                   values=[[0.01, 0.99]] ,\n",
    "                   state_names={'A': ['Visitado asia', 'No ha visitado asia']})\n",
    "\n",
    "cpd_f = TabularCPD(variable='F', variable_card=2, \n",
    "                   values=[[0.5, 0.5]],\n",
    "                   state_names={'F': ['Fumador', 'No fume']})\n",
    "\n",
    "cpd_t = TabularCPD(variable='T', variable_card=2, \n",
    "                   values=[[0.05, 0.01],\n",
    "                          [0.95, 0.99]],\n",
    "                   evidence=['A'],\n",
    "                   evidence_card=[2],\n",
    "                   state_names={'T': ['Tuberculosis', 'No tuberculosis'],\n",
    "                                'A': ['Visitado asia', 'No ha visitado asia']})\n",
    "\n",
    "cpd_c = TabularCPD(variable='C', variable_card=2, \n",
    "                   values=[[0.1, 0.01],\n",
    "                          [0.9, 0.99]],\n",
    "                   evidence=['F'],\n",
    "                   evidence_card=[2],\n",
    "                   state_names={'C': ['Cancer de pulmón', 'No cancer de pulmón'],\n",
    "                                'F': ['Fumador', 'No fume']})\n",
    "\n",
    "cpd_b = TabularCPD(variable='B', variable_card=2, \n",
    "                   values=[[0.6, 0.3],\n",
    "                          [0.4, 0.7]],\n",
    "                   evidence=['F'],\n",
    "                   evidence_card=[2],\n",
    "                   state_names={'B': ['Bronquitis', 'No bronquitis'],\n",
    "                                'F': ['Fumador', 'No fume']})\n",
    "\n",
    "cpd_e = TabularCPD(variable='E', variable_card=4, \n",
    "                   values=[[1, 0, 0, 0],\n",
    "                          [0, 1, 0, 0],\n",
    "                          [0, 0, 1, 0],\n",
    "                          [0, 0, 0, 1]],\n",
    "                   evidence=['C', 'T'],\n",
    "                   evidence_card=[2,2],\n",
    "                   state_names={'E': ['Cancer y Tuberculosis', 'Cancer', 'Tuberculosis', 'Ninguno'],\n",
    "                                'C': ['Cancer', 'No cancer'],\n",
    "                                'T': ['Tuberculosis', 'No tuberculosis']})\n",
    "\n",
    "cpd_x = TabularCPD(variable='X', variable_card=2, \n",
    "                   values=[[0.98, 0.05],\n",
    "                          [0.02, 0.95]],\n",
    "                   evidence=['E'],\n",
    "                   evidence_card=[2],\n",
    "                   state_names={'X': ['Resultados rayos X', 'No hay resultados rayos X'],\n",
    "                                'E': ['Tuberculosis o Cancer', 'Ni tuberculosis, ni cancer']})\n",
    "\n",
    "cpd_d = TabularCPD(variable='D', variable_card=2, \n",
    "                   values=[[0.9, 0.7, 0.8, 0.1],\n",
    "                          [0.1, 0.3, 0.2, 0.9]],\n",
    "                   evidence=['E', 'B'],\n",
    "                   evidence_card=[2,2],\n",
    "                   state_names={'D': ['Disnea', 'No disnea'],\n",
    "                                'E': ['Tuberculosis o Cancer', 'Ni tuberculosis, ni cancer'],\n",
    "                                'B': ['Bronquitis', 'No tiene bronquitis']})\n",
    "\n",
    "model.add_cpds(cpd_a, cpd_f, cpd_t, cpd_c, cpd_b, cpd_e, cpd_x, cpd_d)\n",
    "model.check_model()\n",
    "\n"
   ]
  },
  {
   "cell_type": "markdown",
   "metadata": {},
   "source": [
    "### Consultas"
   ]
  },
  {
   "cell_type": "code",
   "execution_count": 25,
   "metadata": {},
   "outputs": [
    {
     "name": "stdout",
     "output_type": "stream",
     "text": [
      "+------------------------+------------+------------+\n",
      "| F                      | F(Fumador) | F(No fume) |\n",
      "+------------------------+------------+------------+\n",
      "| C(Cancer de pulmón)    | 0.1        | 0.01       |\n",
      "+------------------------+------------+------------+\n",
      "| C(No cancer de pulmón) | 0.9        | 0.99       |\n",
      "+------------------------+------------+------------+\n"
     ]
    }
   ],
   "source": [
    "# La Probilidad de Cancer de Pulmon es P(C/F) \n",
    "# Sea el paciente es Fumador, entonces:\n",
    "\n",
    "print(model.get_cpds('C'))\n",
    "\n",
    "# P(C/F) = 0.1\n",
    "\n"
   ]
  },
  {
   "cell_type": "code",
   "execution_count": 34,
   "metadata": {},
   "outputs": [
    {
     "data": {
      "text/plain": [
       "(C _|_ B, A, T | F)"
      ]
     },
     "execution_count": 34,
     "metadata": {},
     "output_type": "execute_result"
    }
   ],
   "source": [
    "model.local_independencies('C')\n",
    "\n",
    "\n"
   ]
  },
  {
   "cell_type": "code",
   "execution_count": null,
   "metadata": {},
   "outputs": [],
   "source": []
  }
 ],
 "metadata": {
  "kernelspec": {
   "display_name": "Python 3",
   "language": "python",
   "name": "python3"
  },
  "language_info": {
   "codemirror_mode": {
    "name": "ipython",
    "version": 3
   },
   "file_extension": ".py",
   "mimetype": "text/x-python",
   "name": "python",
   "nbconvert_exporter": "python",
   "pygments_lexer": "ipython3",
   "version": "3.7.7"
  }
 },
 "nbformat": 4,
 "nbformat_minor": 4
}
