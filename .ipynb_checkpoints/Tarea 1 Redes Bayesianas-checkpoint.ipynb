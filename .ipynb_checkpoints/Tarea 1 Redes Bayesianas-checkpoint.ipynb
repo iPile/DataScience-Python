{
 "cells": [
  {
   "cell_type": "markdown",
   "metadata": {},
   "source": [
    "# INF-396 Introducción a la Cienca de Datos\n",
    "## Tarea 1 Redes Bayesianes\n",
    "### Ignas Pileckas, estudiante de intercambios"
   ]
  },
  {
   "cell_type": "markdown",
   "metadata": {},
   "source": [
    "#### Pregunta 1 (50%): Programando una red bayesiana"
   ]
  },
  {
   "cell_type": "code",
   "execution_count": 1,
   "metadata": {},
   "outputs": [],
   "source": [
    "# Las variables del modelo son: \n",
    "#    Si el paciente visitó Asia (A ∈ {0,1}),\n",
    "#    Fumador (F ∈ {0,1}), Tuberculosis (T ∈ {0, 1}),\n",
    "#    Cancer de pulmón (C ∈ {0, 1}), Bronquitis (B ∈ {0, 1}), \n",
    "#    Si el paciente tiene Tuberculosis o Cancer (E ∈ {0,1}), \n",
    "#    Resultados rayos X (X ∈ {0, 1}), \n",
    "#    Disnea (D ∈ {0, 1})."
   ]
  },
  {
   "cell_type": "code",
   "execution_count": 2,
   "metadata": {},
   "outputs": [],
   "source": [
    "# P(A) = 0.01\n",
    "# P(F) = 0.5\n",
    "# P(T|A) = 0.05, P(T|no A) = 0.01\n",
    "# P(C|F) = 0.1, P(C| no F) = 0.01\n",
    "# P(B|F) = 0.6, P(B| no F) = 0.3\n",
    "# P(E|C,T)=1,P(E|C,noT)=1,P(E|noC,T)=1,P(E|noC,noT)=0\n",
    "# P(X|E) = 0.98, P(X| no E) = 0.05\n",
    "# P(D|E,B) = 0.9, P(D|E, no B) = 0.7, P(D|no E, B) = 0.8, P(D/no E, no B) = 0.1"
   ]
  },
  {
   "cell_type": "code",
   "execution_count": 29,
   "metadata": {},
   "outputs": [
    {
     "ename": "ValueError",
     "evalue": "Length of evidence_card doesn't match length of evidence",
     "output_type": "error",
     "traceback": [
      "\u001b[0;31m---------------------------------------------------------------------------\u001b[0m",
      "\u001b[0;31mValueError\u001b[0m                                Traceback (most recent call last)",
      "\u001b[0;32m<ipython-input-29-a0f8ae41c428>\u001b[0m in \u001b[0;36m<module>\u001b[0;34m\u001b[0m\n\u001b[1;32m     42\u001b[0m                    state_names={'E': ['Tuberculosis o Cancer'],\n\u001b[1;32m     43\u001b[0m                                 \u001b[0;34m'C'\u001b[0m\u001b[0;34m:\u001b[0m \u001b[0;34m[\u001b[0m\u001b[0;34m'Cancer'\u001b[0m\u001b[0;34m]\u001b[0m\u001b[0;34m,\u001b[0m\u001b[0;34m\u001b[0m\u001b[0;34m\u001b[0m\u001b[0m\n\u001b[0;32m---> 44\u001b[0;31m                                 'T': ['Tuberculosis']})\n\u001b[0m\u001b[1;32m     45\u001b[0m \u001b[0;34m\u001b[0m\u001b[0m\n\u001b[1;32m     46\u001b[0m cpd_x = TabularCPD(variable='X', variable_card=4, \n",
      "\u001b[0;32m/Library/Frameworks/Python.framework/Versions/3.7/lib/python3.7/site-packages/pgmpy/factors/discrete/CPD.py\u001b[0m in \u001b[0;36m__init__\u001b[0;34m(self, variable, variable_card, values, evidence, evidence_card, state_names)\u001b[0m\n\u001b[1;32m    119\u001b[0m             \u001b[0;32mif\u001b[0m \u001b[0;32mnot\u001b[0m \u001b[0mlen\u001b[0m\u001b[0;34m(\u001b[0m\u001b[0mevidence_card\u001b[0m\u001b[0;34m)\u001b[0m \u001b[0;34m==\u001b[0m \u001b[0mlen\u001b[0m\u001b[0;34m(\u001b[0m\u001b[0mevidence\u001b[0m\u001b[0;34m)\u001b[0m\u001b[0;34m:\u001b[0m\u001b[0;34m\u001b[0m\u001b[0;34m\u001b[0m\u001b[0m\n\u001b[1;32m    120\u001b[0m                 raise ValueError(\n\u001b[0;32m--> 121\u001b[0;31m                     \u001b[0;34m\"Length of evidence_card doesn't match length of evidence\"\u001b[0m\u001b[0;34m\u001b[0m\u001b[0;34m\u001b[0m\u001b[0m\n\u001b[0m\u001b[1;32m    122\u001b[0m                 )\n\u001b[1;32m    123\u001b[0m \u001b[0;34m\u001b[0m\u001b[0m\n",
      "\u001b[0;31mValueError\u001b[0m: Length of evidence_card doesn't match length of evidence"
     ]
    }
   ],
   "source": [
    "from pgmpy.models import BayesianModel\n",
    "from pgmpy.factors.discrete import TabularCPD\n",
    "\n",
    "# P(A,F,T,C,B,E,X,D) = P(A)*P(F)*P(T/A)*P(C/F)*P(B/F)*P(E/C,T)*P(D/E,B)\n",
    "\n",
    "model = BayesianModel([('T', 'A'), ('C', 'F'), ('B', 'F'), ('E', 'C'),('E', 'T'),('X', 'E'),('D', 'E'),('D', 'B')])\n",
    "\n",
    "cpd_a = TabularCPD(variable='A', variable_card=1, \n",
    "                   values=[[0.01]] ,\n",
    "                   state_names={'A': ['Visitado asia']})\n",
    "\n",
    "cpd_f = TabularCPD(variable='F', variable_card=1, \n",
    "                   values=[[0.5]],\n",
    "                   state_names={'F': ['Fumador']})\n",
    "\n",
    "cpd_t = TabularCPD(variable='T', variable_card=2, \n",
    "                   values=[[0.05, 0.01]],\n",
    "                   evidence=['A'],\n",
    "                   evidence_card=[1],\n",
    "                   state_names={'T': ['Tuberculosis'],\n",
    "                                'A': ['Visitado asia']})\n",
    "\n",
    "cpd_c = TabularCPD(variable='C', variable_card=2, \n",
    "                   values=[[0.1, 0.01]],\n",
    "                   evidence=['F'],\n",
    "                   evidence_card=[1],\n",
    "                   state_names={'C': ['Cancer de pulmón'],\n",
    "                                'F': ['Fumador']})\n",
    "\n",
    "cpd_b = TabularCPD(variable='B', variable_card=2, \n",
    "                   values=[[0.6, 0.3]],\n",
    "                   evidence=['F'],\n",
    "                   evidence_card=[1],\n",
    "                   state_names={'B': ['Bronquitis'],\n",
    "                                'F': ['Fumador']})\n",
    "\n",
    "cpd_e = TabularCPD(variable='E', variable_card=3, \n",
    "                   values=[[1, 1],\n",
    "                           [1, 0]],\n",
    "                   evidence=['C', 'T'],\n",
    "                   evidence_card=[2],\n",
    "                   state_names={'E': ['Tuberculosis o Cancer'],\n",
    "                                'C': ['Cancer'],\n",
    "                                'T': ['Tuberculosis']})\n",
    "\n",
    "cpd_x = TabularCPD(variable='X', variable_card=4, \n",
    "                   values=[[0.98, 0.05]],\n",
    "                   evidence=['F'],\n",
    "                   evidence_card=[1],\n",
    "                   state_names={'X': ['Resultados rayos X'],\n",
    "                                'E': ['Tuberculosis o Cancer']})\n",
    "\n",
    "cpd_d = TabularCPD(variable='D', variable_card=4, \n",
    "                   values=[[0.9, 0.7],\n",
    "                           [0.8, 0.1]],\n",
    "                   evidence=['E', 'B'],\n",
    "                   evidence_card=[2],\n",
    "                   state_names={'D': ['Disnea'],\n",
    "                                'E': ['Tuberculosis o Cancer'],\n",
    "                                'B': ['Bronquitis']})\n",
    "\n",
    "model.add_cpds(cpd_a, cpd_f, cpd_t, cpd_c, cpd_b, cpd_e, cpd_x, cpd_d)\n",
    "model.check_model()\n",
    "\n",
    "\n",
    "print(model.get_cpds('D'))\n",
    "\n"
   ]
  },
  {
   "cell_type": "code",
   "execution_count": null,
   "metadata": {},
   "outputs": [],
   "source": [
    "# La Probilidad de Cancer de Pulmon es P(C/F) \n",
    "# Sea el paciente es Fumador, entonces:\n",
    "# P(D/E,B) = P(A)*P(F)*P(T/A)*P(C/F)*P(B/F)*P(E/C,T)\n",
    "# P(C/F) = P(A)*P(F)*P(T/A)*P(B/F)*P(E/C,T)/P(D/E,B)"
   ]
  },
  {
   "cell_type": "code",
   "execution_count": null,
   "metadata": {},
   "outputs": [],
   "source": []
  }
 ],
 "metadata": {
  "kernelspec": {
   "display_name": "Python 3",
   "language": "python",
   "name": "python3"
  },
  "language_info": {
   "codemirror_mode": {
    "name": "ipython",
    "version": 3
   },
   "file_extension": ".py",
   "mimetype": "text/x-python",
   "name": "python",
   "nbconvert_exporter": "python",
   "pygments_lexer": "ipython3",
   "version": "3.7.7"
  }
 },
 "nbformat": 4,
 "nbformat_minor": 4
}
