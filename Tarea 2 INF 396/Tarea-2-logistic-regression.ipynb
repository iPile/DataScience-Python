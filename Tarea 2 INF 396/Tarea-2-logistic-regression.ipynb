{
 "cells": [
  {
   "cell_type": "markdown",
   "metadata": {},
   "source": [
    "# Tarea 2: Regresión Logística\n",
    "\n",
    "Este es el código que acompaña la pregunta 1.2 de al tarea 2 del curso INF-396. En esta implementará una versión simple de la regresión Logística. Para eso utilizará el conjunto de datos adjuntos (tarea2_data.txt).\n",
    "\n",
    "Profesor: Juan Pavez"
   ]
  },
  {
   "cell_type": "code",
   "execution_count": 2,
   "metadata": {},
   "outputs": [],
   "source": [
    "import numpy as np\n",
    "import matplotlib.pyplot as plt\n",
    "from sklearn.linear_model import LinearRegression"
   ]
  },
  {
   "cell_type": "code",
   "execution_count": 4,
   "metadata": {},
   "outputs": [],
   "source": [
    "# ---------------\n",
    "# En esta sección implemente las funciones necesarias\n",
    "# para la regresión logística: cost: Función de costo,\n",
    "# gradient: Gradiente de la función de costo respecto a los\n",
    "# parámetros, gradient_descent: Gradiente descendiente\n",
    "# --------------\n",
    "def cost(X, y, theta):\n",
    "    cost = 0\n",
    "    return cost\n",
    "\n",
    "def gradient(X, y, theta):\n",
    "    gradient = 0\n",
    "    return gradient\n",
    "\n",
    "def gradient_descent_step(X, y, theta, alpha=0.01):\n",
    "    new_theta = 0\n",
    "    return new_theta\n",
    "\n",
    "def gradient_descent(X, y, theta, iterations=100, alpha=0.01)\n",
    "    # retorna una lista con la historia de costos y thetas en\n",
    "    # cada iteracion\n",
    "    thetas, costs = []\n",
    "    return thetas, costs\n",
    "    \n"
   ]
  },
  {
   "cell_type": "code",
   "execution_count": 5,
   "metadata": {},
   "outputs": [],
   "source": [
    "# ---------------\n",
    "# En esta sección lea los datos y entrene el modelo \n",
    "# en estos datos\n",
    "# --------------"
   ]
  },
  {
   "cell_type": "code",
   "execution_count": null,
   "metadata": {},
   "outputs": [],
   "source": [
    "# ---------------\n",
    "# En esta sección immplemente un método para normaliza \n",
    "# los datos, debido a que se encuentran en rangos muy distintos\n",
    "# --------------\n",
    ":\n",
    "def normalize(X):\n",
    "    new_X = X\n",
    "    return new_X"
   ]
  },
  {
   "cell_type": "code",
   "execution_count": null,
   "metadata": {},
   "outputs": [],
   "source": [
    "# ---------------\n",
    "# En esta sección normalice los datos y entrene el modelo \n",
    "# en estos datos\n",
    "# --------------"
   ]
  },
  {
   "cell_type": "code",
   "execution_count": 6,
   "metadata": {},
   "outputs": [],
   "source": [
    "# ---------------\n",
    "# En esta sección grafique la perdida para cada una\n",
    "# de las iteraciones, para eso se recomienda utilizar\n",
    "# matplotlib, la funcion plot\n",
    "# --------------\n",
    "\n"
   ]
  },
  {
   "cell_type": "code",
   "execution_count": null,
   "metadata": {},
   "outputs": [],
   "source": [
    "# ---------------\n",
    "# En esta sección utilice la libreria sklearn para \n",
    "# entrenar un modelo de regresion logistica en los datos\n",
    "# https://scikit-learn.org/stable/modules/generated/sklearn.linear_model.LogisticRegression.html\n",
    "# luego imprima el coste final para 100 iteraciones\n",
    "# --------------\n",
    "\n"
   ]
  }
 ],
 "metadata": {
  "kernelspec": {
   "display_name": "Python 3",
   "language": "python",
   "name": "python3"
  },
  "language_info": {
   "codemirror_mode": {
    "name": "ipython",
    "version": 3
   },
   "file_extension": ".py",
   "mimetype": "text/x-python",
   "name": "python",
   "nbconvert_exporter": "python",
   "pygments_lexer": "ipython3",
   "version": "3.7.3"
  }
 },
 "nbformat": 4,
 "nbformat_minor": 2
}
